{
 "cells": [
  {
   "cell_type": "markdown",
   "metadata": {},
   "source": [
    "# xG model with a new feature 'championnat's score' and new 'possession' feature"
   ]
  },
  {
   "cell_type": "code",
   "execution_count": 1,
   "metadata": {},
   "outputs": [],
   "source": [
    "#%pip install xgboost\n",
    "#%pip install tabulate\n",
    "# Importing  libraries\n",
    "import xgboost as xgb\n",
    "import numpy as np \n",
    "import pandas as pd\n",
    "import seaborn as sns\n",
    "import json\n",
    "#Plotting\n",
    "import matplotlib.pyplot as plt\n",
    "#Statistical fitting of models\n",
    "import statsmodels.api as sm\n",
    "import statsmodels.formula.api as smf\n",
    "import time\n",
    "# Importing the libraries required for logistic regression , random forests  \n",
    "\n",
    "from sklearn.linear_model import LogisticRegression\n",
    "from sklearn.ensemble import RandomForestClassifier\n",
    "from sklearn.metrics import classification_report, confusion_matrix, accuracy_score, precision_score, recall_score, brier_score_loss\n",
    "# Loading required libraries for cross validation \n",
    "from sklearn.model_selection import train_test_split, GridSearchCV, StratifiedKFold, cross_val_score\n",
    "\n",
    "\n",
    "from tabulate import tabulate\n",
    "from scipy.stats import norm"
   ]
  },
  {
   "cell_type": "code",
   "execution_count": 2,
   "metadata": {},
   "outputs": [
    {
     "data": {
      "text/html": [
       "<div>\n",
       "<style scoped>\n",
       "    .dataframe tbody tr th:only-of-type {\n",
       "        vertical-align: middle;\n",
       "    }\n",
       "\n",
       "    .dataframe tbody tr th {\n",
       "        vertical-align: top;\n",
       "    }\n",
       "\n",
       "    .dataframe thead th {\n",
       "        text-align: right;\n",
       "    }\n",
       "</style>\n",
       "<table border=\"1\" class=\"dataframe\">\n",
       "  <thead>\n",
       "    <tr style=\"text-align: right;\">\n",
       "      <th></th>\n",
       "      <th>Goal</th>\n",
       "      <th>X</th>\n",
       "      <th>Y</th>\n",
       "      <th>score_17_18</th>\n",
       "      <th>possessionPercentage</th>\n",
       "      <th>C</th>\n",
       "      <th>Distance</th>\n",
       "      <th>Angle</th>\n",
       "      <th>1H</th>\n",
       "      <th>2H</th>\n",
       "    </tr>\n",
       "  </thead>\n",
       "  <tbody>\n",
       "    <tr>\n",
       "      <th>0</th>\n",
       "      <td>1</td>\n",
       "      <td>12.0</td>\n",
       "      <td>41.0</td>\n",
       "      <td>79.605</td>\n",
       "      <td>79.411765</td>\n",
       "      <td>9.0</td>\n",
       "      <td>13.891814</td>\n",
       "      <td>0.474451</td>\n",
       "      <td>1</td>\n",
       "      <td>0</td>\n",
       "    </tr>\n",
       "    <tr>\n",
       "      <th>1</th>\n",
       "      <td>0</td>\n",
       "      <td>15.0</td>\n",
       "      <td>52.0</td>\n",
       "      <td>79.605</td>\n",
       "      <td>20.588235</td>\n",
       "      <td>2.0</td>\n",
       "      <td>15.803560</td>\n",
       "      <td>0.453823</td>\n",
       "      <td>1</td>\n",
       "      <td>0</td>\n",
       "    </tr>\n",
       "    <tr>\n",
       "      <th>2</th>\n",
       "      <td>0</td>\n",
       "      <td>19.0</td>\n",
       "      <td>33.0</td>\n",
       "      <td>79.605</td>\n",
       "      <td>79.411765</td>\n",
       "      <td>17.0</td>\n",
       "      <td>22.805811</td>\n",
       "      <td>0.280597</td>\n",
       "      <td>1</td>\n",
       "      <td>0</td>\n",
       "    </tr>\n",
       "    <tr>\n",
       "      <th>3</th>\n",
       "      <td>0</td>\n",
       "      <td>25.0</td>\n",
       "      <td>30.0</td>\n",
       "      <td>79.605</td>\n",
       "      <td>79.411765</td>\n",
       "      <td>20.0</td>\n",
       "      <td>29.292704</td>\n",
       "      <td>0.223680</td>\n",
       "      <td>1</td>\n",
       "      <td>0</td>\n",
       "    </tr>\n",
       "    <tr>\n",
       "      <th>4</th>\n",
       "      <td>0</td>\n",
       "      <td>10.0</td>\n",
       "      <td>39.0</td>\n",
       "      <td>79.605</td>\n",
       "      <td>79.411765</td>\n",
       "      <td>11.0</td>\n",
       "      <td>12.703248</td>\n",
       "      <td>0.479051</td>\n",
       "      <td>1</td>\n",
       "      <td>0</td>\n",
       "    </tr>\n",
       "    <tr>\n",
       "      <th>...</th>\n",
       "      <td>...</td>\n",
       "      <td>...</td>\n",
       "      <td>...</td>\n",
       "      <td>...</td>\n",
       "      <td>...</td>\n",
       "      <td>...</td>\n",
       "      <td>...</td>\n",
       "      <td>...</td>\n",
       "      <td>...</td>\n",
       "      <td>...</td>\n",
       "    </tr>\n",
       "    <tr>\n",
       "      <th>33937</th>\n",
       "      <td>0</td>\n",
       "      <td>7.0</td>\n",
       "      <td>66.0</td>\n",
       "      <td>106.998</td>\n",
       "      <td>40.000000</td>\n",
       "      <td>16.0</td>\n",
       "      <td>12.735089</td>\n",
       "      <td>0.346975</td>\n",
       "      <td>0</td>\n",
       "      <td>1</td>\n",
       "    </tr>\n",
       "    <tr>\n",
       "      <th>33938</th>\n",
       "      <td>0</td>\n",
       "      <td>10.0</td>\n",
       "      <td>32.0</td>\n",
       "      <td>106.998</td>\n",
       "      <td>40.000000</td>\n",
       "      <td>18.0</td>\n",
       "      <td>15.720687</td>\n",
       "      <td>0.317684</td>\n",
       "      <td>0</td>\n",
       "      <td>1</td>\n",
       "    </tr>\n",
       "    <tr>\n",
       "      <th>33939</th>\n",
       "      <td>1</td>\n",
       "      <td>8.0</td>\n",
       "      <td>25.0</td>\n",
       "      <td>106.998</td>\n",
       "      <td>40.000000</td>\n",
       "      <td>25.0</td>\n",
       "      <td>18.292690</td>\n",
       "      <td>0.189128</td>\n",
       "      <td>0</td>\n",
       "      <td>1</td>\n",
       "    </tr>\n",
       "    <tr>\n",
       "      <th>33940</th>\n",
       "      <td>0</td>\n",
       "      <td>18.0</td>\n",
       "      <td>30.0</td>\n",
       "      <td>106.998</td>\n",
       "      <td>60.000000</td>\n",
       "      <td>20.0</td>\n",
       "      <td>22.939268</td>\n",
       "      <td>0.263508</td>\n",
       "      <td>0</td>\n",
       "      <td>1</td>\n",
       "    </tr>\n",
       "    <tr>\n",
       "      <th>33941</th>\n",
       "      <td>0</td>\n",
       "      <td>12.0</td>\n",
       "      <td>43.0</td>\n",
       "      <td>106.998</td>\n",
       "      <td>60.000000</td>\n",
       "      <td>7.0</td>\n",
       "      <td>13.396361</td>\n",
       "      <td>0.506972</td>\n",
       "      <td>0</td>\n",
       "      <td>1</td>\n",
       "    </tr>\n",
       "  </tbody>\n",
       "</table>\n",
       "<p>33942 rows × 10 columns</p>\n",
       "</div>"
      ],
      "text/plain": [
       "       Goal     X     Y  score_17_18  possessionPercentage     C   Distance  \\\n",
       "0         1  12.0  41.0       79.605             79.411765   9.0  13.891814   \n",
       "1         0  15.0  52.0       79.605             20.588235   2.0  15.803560   \n",
       "2         0  19.0  33.0       79.605             79.411765  17.0  22.805811   \n",
       "3         0  25.0  30.0       79.605             79.411765  20.0  29.292704   \n",
       "4         0  10.0  39.0       79.605             79.411765  11.0  12.703248   \n",
       "...     ...   ...   ...          ...                   ...   ...        ...   \n",
       "33937     0   7.0  66.0      106.998             40.000000  16.0  12.735089   \n",
       "33938     0  10.0  32.0      106.998             40.000000  18.0  15.720687   \n",
       "33939     1   8.0  25.0      106.998             40.000000  25.0  18.292690   \n",
       "33940     0  18.0  30.0      106.998             60.000000  20.0  22.939268   \n",
       "33941     0  12.0  43.0      106.998             60.000000   7.0  13.396361   \n",
       "\n",
       "          Angle  1H  2H  \n",
       "0      0.474451   1   0  \n",
       "1      0.453823   1   0  \n",
       "2      0.280597   1   0  \n",
       "3      0.223680   1   0  \n",
       "4      0.479051   1   0  \n",
       "...         ...  ..  ..  \n",
       "33937  0.346975   0   1  \n",
       "33938  0.317684   0   1  \n",
       "33939  0.189128   0   1  \n",
       "33940  0.263508   0   1  \n",
       "33941  0.506972   0   1  \n",
       "\n",
       "[33942 rows x 10 columns]"
      ]
     },
     "execution_count": 2,
     "metadata": {},
     "output_type": "execute_result"
    }
   ],
   "source": [
    "with open('shots_model_3.json') as f:\n",
    "    shots_model= json.load(f)\n",
    "\n",
    "# Converting the laoded into datframe\n",
    "shots_model = pd.DataFrame(shots_model)\n",
    "\n",
    "shots_model"
   ]
  },
  {
   "cell_type": "code",
   "execution_count": 3,
   "metadata": {},
   "outputs": [
    {
     "data": {
      "text/html": [
       "<div>\n",
       "<style scoped>\n",
       "    .dataframe tbody tr th:only-of-type {\n",
       "        vertical-align: middle;\n",
       "    }\n",
       "\n",
       "    .dataframe tbody tr th {\n",
       "        vertical-align: top;\n",
       "    }\n",
       "\n",
       "    .dataframe thead th {\n",
       "        text-align: right;\n",
       "    }\n",
       "</style>\n",
       "<table border=\"1\" class=\"dataframe\">\n",
       "  <thead>\n",
       "    <tr style=\"text-align: right;\">\n",
       "      <th></th>\n",
       "      <th>C</th>\n",
       "      <th>score_17_18</th>\n",
       "      <th>2H</th>\n",
       "      <th>Distance</th>\n",
       "      <th>Angle</th>\n",
       "      <th>possessionPercentage</th>\n",
       "    </tr>\n",
       "  </thead>\n",
       "  <tbody>\n",
       "    <tr>\n",
       "      <th>0</th>\n",
       "      <td>9.0</td>\n",
       "      <td>79.605</td>\n",
       "      <td>0</td>\n",
       "      <td>13.891814</td>\n",
       "      <td>0.474451</td>\n",
       "      <td>79.411765</td>\n",
       "    </tr>\n",
       "    <tr>\n",
       "      <th>1</th>\n",
       "      <td>2.0</td>\n",
       "      <td>79.605</td>\n",
       "      <td>0</td>\n",
       "      <td>15.803560</td>\n",
       "      <td>0.453823</td>\n",
       "      <td>20.588235</td>\n",
       "    </tr>\n",
       "    <tr>\n",
       "      <th>2</th>\n",
       "      <td>17.0</td>\n",
       "      <td>79.605</td>\n",
       "      <td>0</td>\n",
       "      <td>22.805811</td>\n",
       "      <td>0.280597</td>\n",
       "      <td>79.411765</td>\n",
       "    </tr>\n",
       "    <tr>\n",
       "      <th>3</th>\n",
       "      <td>20.0</td>\n",
       "      <td>79.605</td>\n",
       "      <td>0</td>\n",
       "      <td>29.292704</td>\n",
       "      <td>0.223680</td>\n",
       "      <td>79.411765</td>\n",
       "    </tr>\n",
       "    <tr>\n",
       "      <th>4</th>\n",
       "      <td>11.0</td>\n",
       "      <td>79.605</td>\n",
       "      <td>0</td>\n",
       "      <td>12.703248</td>\n",
       "      <td>0.479051</td>\n",
       "      <td>79.411765</td>\n",
       "    </tr>\n",
       "    <tr>\n",
       "      <th>...</th>\n",
       "      <td>...</td>\n",
       "      <td>...</td>\n",
       "      <td>...</td>\n",
       "      <td>...</td>\n",
       "      <td>...</td>\n",
       "      <td>...</td>\n",
       "    </tr>\n",
       "    <tr>\n",
       "      <th>33937</th>\n",
       "      <td>16.0</td>\n",
       "      <td>106.998</td>\n",
       "      <td>1</td>\n",
       "      <td>12.735089</td>\n",
       "      <td>0.346975</td>\n",
       "      <td>40.000000</td>\n",
       "    </tr>\n",
       "    <tr>\n",
       "      <th>33938</th>\n",
       "      <td>18.0</td>\n",
       "      <td>106.998</td>\n",
       "      <td>1</td>\n",
       "      <td>15.720687</td>\n",
       "      <td>0.317684</td>\n",
       "      <td>40.000000</td>\n",
       "    </tr>\n",
       "    <tr>\n",
       "      <th>33939</th>\n",
       "      <td>25.0</td>\n",
       "      <td>106.998</td>\n",
       "      <td>1</td>\n",
       "      <td>18.292690</td>\n",
       "      <td>0.189128</td>\n",
       "      <td>40.000000</td>\n",
       "    </tr>\n",
       "    <tr>\n",
       "      <th>33940</th>\n",
       "      <td>20.0</td>\n",
       "      <td>106.998</td>\n",
       "      <td>1</td>\n",
       "      <td>22.939268</td>\n",
       "      <td>0.263508</td>\n",
       "      <td>60.000000</td>\n",
       "    </tr>\n",
       "    <tr>\n",
       "      <th>33941</th>\n",
       "      <td>7.0</td>\n",
       "      <td>106.998</td>\n",
       "      <td>1</td>\n",
       "      <td>13.396361</td>\n",
       "      <td>0.506972</td>\n",
       "      <td>60.000000</td>\n",
       "    </tr>\n",
       "  </tbody>\n",
       "</table>\n",
       "<p>33942 rows × 6 columns</p>\n",
       "</div>"
      ],
      "text/plain": [
       "          C  score_17_18  2H   Distance     Angle  possessionPercentage\n",
       "0       9.0       79.605   0  13.891814  0.474451             79.411765\n",
       "1       2.0       79.605   0  15.803560  0.453823             20.588235\n",
       "2      17.0       79.605   0  22.805811  0.280597             79.411765\n",
       "3      20.0       79.605   0  29.292704  0.223680             79.411765\n",
       "4      11.0       79.605   0  12.703248  0.479051             79.411765\n",
       "...     ...          ...  ..        ...       ...                   ...\n",
       "33937  16.0      106.998   1  12.735089  0.346975             40.000000\n",
       "33938  18.0      106.998   1  15.720687  0.317684             40.000000\n",
       "33939  25.0      106.998   1  18.292690  0.189128             40.000000\n",
       "33940  20.0      106.998   1  22.939268  0.263508             60.000000\n",
       "33941   7.0      106.998   1  13.396361  0.506972             60.000000\n",
       "\n",
       "[33942 rows x 6 columns]"
      ]
     },
     "execution_count": 3,
     "metadata": {},
     "output_type": "execute_result"
    }
   ],
   "source": [
    "# Creating a dataframe containing all the features\n",
    "X = shots_model[['C','score_17_18', '2H' ,'Distance','Angle','possessionPercentage']]\n",
    "# Feature data set\n",
    "X"
   ]
  },
  {
   "cell_type": "code",
   "execution_count": 4,
   "metadata": {},
   "outputs": [
    {
     "data": {
      "text/plain": [
       "array([[-0.43355223, -0.73871869,  0.44413802,  0.09604288,  1.44761455],\n",
       "       [-1.33526891, -0.50239097,  0.35154924,  0.09604288, -2.18797324],\n",
       "       [ 0.59698112,  0.363219  , -0.42597354,  0.09604288,  1.44761455],\n",
       "       ...,\n",
       "       [ 1.62751447, -0.19468766, -0.83652799,  1.76827238, -0.98822927],\n",
       "       [ 0.98343113,  0.37971679, -0.50267458,  1.76827238,  0.24787058],\n",
       "       [-0.69118557, -0.79996597,  0.59010791,  1.76827238,  0.24787058]])"
      ]
     },
     "execution_count": 4,
     "metadata": {},
     "output_type": "execute_result"
    }
   ],
   "source": [
    "# Scaling the numeric continous features in our data set\n",
    "from sklearn.preprocessing import StandardScaler\n",
    "\n",
    "scaler = StandardScaler()\n",
    "X_continuous = X[['C', 'Distance', 'Angle','score_17_18','possessionPercentage']] # select only continuous columns\n",
    "X_scaled = scaler.fit_transform(X_continuous)\n",
    "\n",
    "X_scaled"
   ]
  },
  {
   "cell_type": "code",
   "execution_count": 5,
   "metadata": {},
   "outputs": [
    {
     "data": {
      "text/html": [
       "<div>\n",
       "<style scoped>\n",
       "    .dataframe tbody tr th:only-of-type {\n",
       "        vertical-align: middle;\n",
       "    }\n",
       "\n",
       "    .dataframe tbody tr th {\n",
       "        vertical-align: top;\n",
       "    }\n",
       "\n",
       "    .dataframe thead th {\n",
       "        text-align: right;\n",
       "    }\n",
       "</style>\n",
       "<table border=\"1\" class=\"dataframe\">\n",
       "  <thead>\n",
       "    <tr style=\"text-align: right;\">\n",
       "      <th></th>\n",
       "      <th>2H</th>\n",
       "      <th>C</th>\n",
       "      <th>Distance</th>\n",
       "      <th>Angle</th>\n",
       "      <th>score_17_18</th>\n",
       "      <th>possessionPercentage</th>\n",
       "    </tr>\n",
       "  </thead>\n",
       "  <tbody>\n",
       "    <tr>\n",
       "      <th>0</th>\n",
       "      <td>0</td>\n",
       "      <td>-0.433552</td>\n",
       "      <td>-0.738719</td>\n",
       "      <td>0.444138</td>\n",
       "      <td>0.096043</td>\n",
       "      <td>1.447615</td>\n",
       "    </tr>\n",
       "    <tr>\n",
       "      <th>1</th>\n",
       "      <td>0</td>\n",
       "      <td>-1.335269</td>\n",
       "      <td>-0.502391</td>\n",
       "      <td>0.351549</td>\n",
       "      <td>0.096043</td>\n",
       "      <td>-2.187973</td>\n",
       "    </tr>\n",
       "    <tr>\n",
       "      <th>2</th>\n",
       "      <td>0</td>\n",
       "      <td>0.596981</td>\n",
       "      <td>0.363219</td>\n",
       "      <td>-0.425974</td>\n",
       "      <td>0.096043</td>\n",
       "      <td>1.447615</td>\n",
       "    </tr>\n",
       "    <tr>\n",
       "      <th>3</th>\n",
       "      <td>0</td>\n",
       "      <td>0.983431</td>\n",
       "      <td>1.165121</td>\n",
       "      <td>-0.681446</td>\n",
       "      <td>0.096043</td>\n",
       "      <td>1.447615</td>\n",
       "    </tr>\n",
       "    <tr>\n",
       "      <th>4</th>\n",
       "      <td>0</td>\n",
       "      <td>-0.175919</td>\n",
       "      <td>-0.885648</td>\n",
       "      <td>0.464784</td>\n",
       "      <td>0.096043</td>\n",
       "      <td>1.447615</td>\n",
       "    </tr>\n",
       "    <tr>\n",
       "      <th>...</th>\n",
       "      <td>...</td>\n",
       "      <td>...</td>\n",
       "      <td>...</td>\n",
       "      <td>...</td>\n",
       "      <td>...</td>\n",
       "      <td>...</td>\n",
       "    </tr>\n",
       "    <tr>\n",
       "      <th>33937</th>\n",
       "      <td>1</td>\n",
       "      <td>0.468164</td>\n",
       "      <td>-0.881712</td>\n",
       "      <td>-0.128036</td>\n",
       "      <td>1.768272</td>\n",
       "      <td>-0.988229</td>\n",
       "    </tr>\n",
       "    <tr>\n",
       "      <th>33938</th>\n",
       "      <td>1</td>\n",
       "      <td>0.725798</td>\n",
       "      <td>-0.512636</td>\n",
       "      <td>-0.259510</td>\n",
       "      <td>1.768272</td>\n",
       "      <td>-0.988229</td>\n",
       "    </tr>\n",
       "    <tr>\n",
       "      <th>33939</th>\n",
       "      <td>1</td>\n",
       "      <td>1.627514</td>\n",
       "      <td>-0.194688</td>\n",
       "      <td>-0.836528</td>\n",
       "      <td>1.768272</td>\n",
       "      <td>-0.988229</td>\n",
       "    </tr>\n",
       "    <tr>\n",
       "      <th>33940</th>\n",
       "      <td>1</td>\n",
       "      <td>0.983431</td>\n",
       "      <td>0.379717</td>\n",
       "      <td>-0.502675</td>\n",
       "      <td>1.768272</td>\n",
       "      <td>0.247871</td>\n",
       "    </tr>\n",
       "    <tr>\n",
       "      <th>33941</th>\n",
       "      <td>1</td>\n",
       "      <td>-0.691186</td>\n",
       "      <td>-0.799966</td>\n",
       "      <td>0.590108</td>\n",
       "      <td>1.768272</td>\n",
       "      <td>0.247871</td>\n",
       "    </tr>\n",
       "  </tbody>\n",
       "</table>\n",
       "<p>33942 rows × 6 columns</p>\n",
       "</div>"
      ],
      "text/plain": [
       "       2H         C  Distance     Angle  score_17_18  possessionPercentage\n",
       "0       0 -0.433552 -0.738719  0.444138     0.096043              1.447615\n",
       "1       0 -1.335269 -0.502391  0.351549     0.096043             -2.187973\n",
       "2       0  0.596981  0.363219 -0.425974     0.096043              1.447615\n",
       "3       0  0.983431  1.165121 -0.681446     0.096043              1.447615\n",
       "4       0 -0.175919 -0.885648  0.464784     0.096043              1.447615\n",
       "...    ..       ...       ...       ...          ...                   ...\n",
       "33937   1  0.468164 -0.881712 -0.128036     1.768272             -0.988229\n",
       "33938   1  0.725798 -0.512636 -0.259510     1.768272             -0.988229\n",
       "33939   1  1.627514 -0.194688 -0.836528     1.768272             -0.988229\n",
       "33940   1  0.983431  0.379717 -0.502675     1.768272              0.247871\n",
       "33941   1 -0.691186 -0.799966  0.590108     1.768272              0.247871\n",
       "\n",
       "[33942 rows x 6 columns]"
      ]
     },
     "execution_count": 5,
     "metadata": {},
     "output_type": "execute_result"
    }
   ],
   "source": [
    "# Dropping the original continuous columns in the dataframe\n",
    "X = X.drop(['C','Angle','Distance','score_17_18','possessionPercentage'], axis=1)\n",
    "\n",
    "# Adding scaled columns to our dataset\n",
    "X['C'] = X_scaled[:,0]\n",
    "X['Distance'] = X_scaled[:,1]\n",
    "X['Angle'] = X_scaled[:,2]\n",
    "X['score_17_18'] = X_scaled[:,3]\n",
    "X['possessionPercentage'] = X_scaled[:,4]\n",
    "\n",
    "# Finalized Feature Dataset\n",
    "X"
   ]
  },
  {
   "cell_type": "code",
   "execution_count": 6,
   "metadata": {},
   "outputs": [
    {
     "data": {
      "text/plain": [
       "0        1\n",
       "1        0\n",
       "2        0\n",
       "3        0\n",
       "4        0\n",
       "        ..\n",
       "33937    0\n",
       "33938    0\n",
       "33939    1\n",
       "33940    0\n",
       "33941    0\n",
       "Name: Goal, Length: 33942, dtype: int64"
      ]
     },
     "execution_count": 6,
     "metadata": {},
     "output_type": "execute_result"
    }
   ],
   "source": [
    "# Creating a data set containing dependent variable 'Goal'\n",
    "y = shots_model['Goal']\n",
    "\n",
    "y"
   ]
  },
  {
   "attachments": {},
   "cell_type": "markdown",
   "metadata": {},
   "source": [
    "# Logistic Regression\n",
    "I changed the penality from list [L_1,L_2] to only one penality [L_2] in grid parameters"
   ]
  },
  {
   "cell_type": "code",
   "execution_count": 7,
   "metadata": {},
   "outputs": [],
   "source": [
    "# Splitting the data into training and testing sets\n",
    "X_train, X_test, y_train, y_test = train_test_split(X, y, test_size=0.25, random_state=42)\n"
   ]
  },
  {
   "cell_type": "code",
   "execution_count": 8,
   "metadata": {},
   "outputs": [
    {
     "name": "stdout",
     "output_type": "stream",
     "text": [
      "Shot in Training Data:  22817\n",
      "Goals in Training Data:  2639\n"
     ]
    }
   ],
   "source": [
    "# Determine scale_pos_weight based on class imbalance\n",
    "count_class_0, count_class_1 = y_train.value_counts()\n",
    "print ('Shot in Training Data: ', count_class_0)\n",
    "print ('Goals in Training Data: ', count_class_1)"
   ]
  },
  {
   "cell_type": "code",
   "execution_count": 9,
   "metadata": {},
   "outputs": [
    {
     "name": "stdout",
     "output_type": "stream",
     "text": [
      "Weight of Shots Class in Training:  0.896330923947203\n",
      "Weight of Goal Class in Training:  0.10366907605279699\n"
     ]
    }
   ],
   "source": [
    "# calculation of weight_0 and weight_1\n",
    "# Class imbalance in training data\n",
    "weight_0 = count_class_0 / (count_class_0 + count_class_1)\n",
    "weight_1 = count_class_1 / (count_class_0 + count_class_1)\n",
    "print ('Weight of Shots Class in Training: ',weight_0)\n",
    "print ('Weight of Goal Class in Training: ', weight_1)"
   ]
  },
  {
   "cell_type": "code",
   "execution_count": 10,
   "metadata": {},
   "outputs": [],
   "source": [
    "param_grid_lr = {'C': [0.1, 1, 10, 100],\n",
    "              'penalty': ['l2'],\n",
    "              'class_weight': ['balanced', {0:weight_0, 1:weight_1}]}"
   ]
  },
  {
   "cell_type": "code",
   "execution_count": 11,
   "metadata": {},
   "outputs": [],
   "source": [
    "# Defining the outer loop for train-test split\n",
    "# This code defines the outer loop for cross-validation using StratifiedKFold(). \n",
    "# n_splits is the number of folds to use, and shuffle is whether or not to shuffle the data before splitting\n",
    "\n",
    "cv_outer = StratifiedKFold(n_splits=5, shuffle=True, random_state=42)\n",
    "# Defining the inner loop for cross-validation on the training set\n",
    "# This loop will be used to perform cross-validation on the training set for each combination of hyperparameters.\n",
    "cv_inner = StratifiedKFold(n_splits=5, shuffle=True, random_state=42)"
   ]
  },
  {
   "cell_type": "code",
   "execution_count": 12,
   "metadata": {},
   "outputs": [
    {
     "data": {
      "text/plain": [
       "array([0.3483626 , 0.35223048, 0.34646417, 0.3421943 , 0.3442623 ])"
      ]
     },
     "execution_count": 12,
     "metadata": {},
     "output_type": "execute_result"
    }
   ],
   "source": [
    "# Defining the logistic regression model\n",
    "LR_model = LogisticRegression()\n",
    "# Starting the tiemr\n",
    "start_time = time.time()\n",
    "\n",
    "# Perform nested cross-validation with grid search\n",
    "\n",
    "grid = GridSearchCV(LR_model, param_grid=param_grid_lr, cv=cv_inner, scoring='f1', n_jobs=-1)\n",
    "scores = cross_val_score(grid, X_train, y_train, cv=cv_outer, scoring='f1', n_jobs=-1)\n",
    "\n",
    "# the array of F1-scores obtained by performing cross-validation on the training set using the GridSearchCV object\n",
    "scores"
   ]
  },
  {
   "cell_type": "code",
   "execution_count": 13,
   "metadata": {},
   "outputs": [],
   "source": [
    "grid.fit(X_train, y_train)\n",
    "best_lr_model = grid.best_estimator_\n",
    "\n",
    "# Stopping the timer\n",
    "end_time = time.time()\n",
    "\n",
    "lr_training_time = end_time - start_time"
   ]
  },
  {
   "cell_type": "code",
   "execution_count": 14,
   "metadata": {},
   "outputs": [
    {
     "name": "stdout",
     "output_type": "stream",
     "text": [
      "Best parameters:  {'C': 0.1, 'class_weight': 'balanced', 'penalty': 'l2'}\n",
      "Model Training Time: 61.957 seconds\n"
     ]
    }
   ],
   "source": [
    "# Print the best parameters and training time\n",
    "print(\"Best parameters: \", grid.best_params_)\n",
    "print (\"Model Training Time: {:.3f} seconds\".format(lr_training_time))"
   ]
  },
  {
   "cell_type": "code",
   "execution_count": 15,
   "metadata": {},
   "outputs": [
    {
     "name": "stdout",
     "output_type": "stream",
     "text": [
      "Feature                    Coef.    Std. Err.        Wald      p-value\n",
      "--------------------  ----------  -----------  ----------  -----------\n",
      "2H                     0.17208     0.00656802    26.1996   0\n",
      "C                     -0.0784751   0.00382774   -20.5017   0\n",
      "Distance              -0.742214    0.00454376  -163.348    0\n",
      "Angle                  0.43641     0.00503207    86.7258   0\n",
      "score_17_18           -0.0193601   0.00328076    -5.90109  3.61108e-09\n",
      "possessionPercentage  -0.0762096   0.00329032   -23.1618   0\n"
     ]
    }
   ],
   "source": [
    "# Model Summary\n",
    "# Get the estimated coefficients\n",
    "coef = best_lr_model.coef_[0]\n",
    "intercept = best_lr_model.intercept_[0]\n",
    "\n",
    "# Calculate the standard errors\n",
    "n = len(y_train)\n",
    "A = np.hstack((np.ones((n, 1)), X_train))\n",
    "p = len(coef)\n",
    "y_pred = best_lr_model.predict(X_train)\n",
    "residuals = y_train - y_pred\n",
    "sigma2 = np.sum(residuals**2) / (n - p - 1)\n",
    "cov = sigma2 * np.linalg.inv(np.dot(A.T, A))\n",
    "se = np.sqrt(np.diag(cov)[1:])\n",
    "\n",
    "# Calculate the Wald statistics and p-values\n",
    "wald = coef / se\n",
    "p_values = (1 - norm.cdf(np.abs(wald))) * 2\n",
    "\n",
    "features = list(X_train.columns)\n",
    "\n",
    "# Create a summary table of coefficients, standard errors, Wald statistics, and p-values\n",
    "table = np.column_stack((features, coef, se, wald, p_values))\n",
    "headers = ['Feature', 'Coef.', 'Std. Err.', 'Wald', 'p-value']\n",
    "print(tabulate(table, headers=headers))"
   ]
  },
  {
   "cell_type": "code",
   "execution_count": 16,
   "metadata": {},
   "outputs": [
    {
     "name": "stdout",
     "output_type": "stream",
     "text": [
      "              precision    recall  f1-score   support\n",
      "\n",
      "           0       0.95      0.73      0.83     22817\n",
      "           1       0.23      0.70      0.35      2639\n",
      "\n",
      "    accuracy                           0.73     25456\n",
      "   macro avg       0.59      0.71      0.59     25456\n",
      "weighted avg       0.88      0.73      0.78     25456\n",
      " 0.1838069696017479 is the Brier score on testing data "
     ]
    }
   ],
   "source": [
    "#Brier score for Linear Regression on training data\n",
    "LR_BRS_train = brier_score_loss(y_train, best_lr_model.predict_proba(X_train)[:, 1])\n",
    "# Classfication report for training data\n",
    "print (classification_report(y_train, best_lr_model.predict(X_train)), LR_BRS_train, end=  \" is the Brier score on testing data \")"
   ]
  },
  {
   "cell_type": "code",
   "execution_count": 17,
   "metadata": {},
   "outputs": [
    {
     "name": "stdout",
     "output_type": "stream",
     "text": [
      "              precision    recall  f1-score   support\n",
      "\n",
      "           0       0.96      0.73      0.83      7672\n",
      "           1       0.22      0.72      0.34       814\n",
      "\n",
      "    accuracy                           0.73      8486\n",
      "   macro avg       0.59      0.72      0.58      8486\n",
      "weighted avg       0.89      0.73      0.78      8486\n",
      " 0.1846692662504332 is the brier score on testing data "
     ]
    }
   ],
   "source": [
    "# Classfication report for training data\n",
    "y_pred = best_lr_model.predict(X_test)\n",
    "LR_BRS_test = brier_score_loss(y_test, best_lr_model.predict_proba(X_test)[:, 1])\n",
    "print (classification_report(y_test, y_pred),  LR_BRS_test, end=  \" is the brier score on testing data \")"
   ]
  },
  {
   "attachments": {},
   "cell_type": "markdown",
   "metadata": {},
   "source": [
    "# XGboost Model"
   ]
  },
  {
   "cell_type": "code",
   "execution_count": 18,
   "metadata": {},
   "outputs": [],
   "source": [
    "# using the same approach for train test split and CV as before\n",
    "# Splitting the data into training and testing sets\n",
    "X_train, X_test, y_train, y_test = train_test_split(X, y, test_size=0.25, random_state=42)\n",
    "\n",
    "# Defining the outer loop for train-test split\n",
    "cv_outer = StratifiedKFold(n_splits=5, shuffle=True, random_state=42)\n",
    "\n",
    "# Defining the inner loop for cross-validation on the training set\n",
    "cv_inner = StratifiedKFold(n_splits=5, shuffle=True, random_state=42)"
   ]
  },
  {
   "cell_type": "code",
   "execution_count": 19,
   "metadata": {},
   "outputs": [
    {
     "name": "stdout",
     "output_type": "stream",
     "text": [
      "Shot in Training Data:  22817\n",
      "Goals in Training Data:  2639\n"
     ]
    }
   ],
   "source": [
    "xgb_model = xgb.XGBClassifier()\n",
    "# Determine scale_pos_weight based on class imbalance\n",
    "count_class_0, count_class_1 = y_train.value_counts()\n",
    "print ('Shot in Training Data: ', count_class_0)\n",
    "print ('Goals in Training Data: ', count_class_1)"
   ]
  },
  {
   "cell_type": "code",
   "execution_count": 20,
   "metadata": {},
   "outputs": [
    {
     "data": {
      "text/plain": [
       "8.646078059871163"
      ]
     },
     "execution_count": 20,
     "metadata": {},
     "output_type": "execute_result"
    }
   ],
   "source": [
    "# Class imbalance in training data\n",
    "scale_pos_weight = count_class_0 / count_class_1\n",
    "scale_pos_weight"
   ]
  },
  {
   "cell_type": "code",
   "execution_count": 21,
   "metadata": {},
   "outputs": [],
   "source": [
    "# Defining the hyper-parameter grid for XG Boost\n",
    "param_grid_xgb = {'learning_rate': [0.1, 0.01, 0.001],\n",
    "              'max_depth': [5, 7, 9],\n",
    "              'n_estimators': [100, 200, 300],\n",
    "              'scale_pos_weight': [1, scale_pos_weight]}"
   ]
  },
  {
   "cell_type": "code",
   "execution_count": 22,
   "metadata": {},
   "outputs": [],
   "source": [
    "# starting the timer\n",
    "\n",
    "start_time = time.time()\n",
    "\n",
    "# Perform nested cross-validation with grid search\n",
    "grid_xg = GridSearchCV(xgb_model, param_grid=param_grid_xgb, cv=cv_inner, scoring='f1', n_jobs=-1)\n",
    "scores_xg = cross_val_score(grid_xg, X_train, y_train, cv=cv_outer, scoring='f1', n_jobs=-1)\n",
    "# Fit the best model on the entire training set\n",
    "grid_xg.fit(X_train, y_train)\n",
    "best_xgb_model = grid_xg.best_estimator_\n",
    "\n",
    "# Stopping the timer\n",
    "stop_time = time.time()\n",
    "\n",
    "# Training Time\n",
    "xgb_training_time = stop_time - start_time"
   ]
  },
  {
   "cell_type": "code",
   "execution_count": 23,
   "metadata": {},
   "outputs": [
    {
     "name": "stdout",
     "output_type": "stream",
     "text": [
      "Best parameters:  {'learning_rate': 0.1, 'max_depth': 5, 'n_estimators': 100, 'scale_pos_weight': 8.646078059871163}\n",
      "Model Training Time: 640.966 seconds\n"
     ]
    }
   ],
   "source": [
    "# Print the best parameters and training time\n",
    "print(\"Best parameters: \", grid_xg.best_params_)\n",
    "print (\"Model Training Time: {:.3f} seconds\".format(xgb_training_time))"
   ]
  },
  {
   "cell_type": "code",
   "execution_count": 24,
   "metadata": {},
   "outputs": [
    {
     "name": "stdout",
     "output_type": "stream",
     "text": [
      "              precision    recall  f1-score   support\n",
      "\n",
      "           0       0.97      0.72      0.83     22817\n",
      "           1       0.25      0.80      0.38      2639\n",
      "\n",
      "    accuracy                           0.73     25456\n",
      "   macro avg       0.61      0.76      0.60     25456\n",
      "weighted avg       0.89      0.73      0.78     25456\n",
      " 0.1660410309020474 is the brier score on training data"
     ]
    }
   ],
   "source": [
    " #Brier score for xgboost on training data\n",
    "xgb_BRS_train = brier_score_loss(y_train, best_xgb_model.predict_proba(X_train)[:, 1])\n",
    "# Classfication report for training data\n",
    "print (classification_report(y_train, best_xgb_model.predict(X_train)), xgb_BRS_train, end=  \" is the brier score on training data\")"
   ]
  },
  {
   "cell_type": "code",
   "execution_count": 25,
   "metadata": {},
   "outputs": [
    {
     "name": "stdout",
     "output_type": "stream",
     "text": [
      "              precision    recall  f1-score   support\n",
      "\n",
      "           0       0.96      0.72      0.82      7672\n",
      "           1       0.21      0.72      0.33       814\n",
      "\n",
      "    accuracy                           0.72      8486\n",
      "   macro avg       0.59      0.72      0.57      8486\n",
      "weighted avg       0.89      0.72      0.77      8486\n",
      " 0.17530998043780952 is the brier score on test data"
     ]
    }
   ],
   "source": [
    "# On testing data\n",
    "y_pred_xgb = best_xgb_model.predict(X_test)\n",
    "xgb_BRS_test = brier_score_loss(y_test, best_xgb_model.predict_proba(X_test)[:, 1])\n",
    "\n",
    "print (classification_report(y_test, y_pred_xgb), xgb_BRS_test , end= \" is the brier score on test data\")"
   ]
  },
  {
   "cell_type": "code",
   "execution_count": 26,
   "metadata": {},
   "outputs": [
    {
     "data": {
      "image/png": "[encoded data removed]",
      "text/plain": [
       "<Figure size 640x480 with 1 Axes>"
      ]
     },
     "metadata": {},
     "output_type": "display_data"
    }
   ],
   "source": [
    "# Plottingg important features\n",
    "# Plot feature importance\n",
    "xgb.plot_importance(best_xgb_model)\n",
    "plt.show()"
   ]
  },
  {
   "cell_type": "code",
   "execution_count": 27,
   "metadata": {},
   "outputs": [
    {
     "data": {
      "image/png": "[encoded data removed]",
      "text/plain": [
       "<Figure size 640x480 with 1 Axes>"
      ]
     },
     "metadata": {},
     "output_type": "display_data"
    }
   ],
   "source": [
    "#We can also plot feature importance using two parameters:\n",
    "# 1)gain: the 'gain' option displays the average gain of each feature when it is used in a tree\n",
    "\n",
    "xgb.plot_importance(best_xgb_model, importance_type='gain', xlabel='Gain')\n",
    "plt.show()"
   ]
  },
  {
   "cell_type": "code",
   "execution_count": 28,
   "metadata": {},
   "outputs": [
    {
     "data": {
      "image/png": "[encoded data removed]",
      "text/plain": [
       "<Figure size 640x480 with 1 Axes>"
      ]
     },
     "metadata": {},
     "output_type": "display_data"
    }
   ],
   "source": [
    "# 2)weight: The 'weight' option displays the number of times each feature appears in a tree\n",
    "\n",
    "xgb.plot_importance(best_xgb_model, importance_type='weight', xlabel='Weight')\n",
    "plt.show()"
   ]
  },
  {
   "attachments": {},
   "cell_type": "markdown",
   "metadata": {},
   "source": [
    "# Random Forest Model"
   ]
  },
  {
   "cell_type": "code",
   "execution_count": 29,
   "metadata": {},
   "outputs": [],
   "source": [
    "# using the same approach for train test split and CV as before\n",
    "# Splitting the data into training and testing sets\n",
    "X_train, X_test, y_train, y_test = train_test_split(X, y, test_size=0.25, random_state=42)\n",
    "\n",
    "# Defining the outer loop for train-test split\n",
    "cv_outer = StratifiedKFold(n_splits=5, shuffle=True, random_state=42)\n",
    "\n",
    "# Defining the inner loop for cross-validation on the training set\n",
    "cv_inner = StratifiedKFold(n_splits=5, shuffle=True, random_state=42)"
   ]
  },
  {
   "cell_type": "code",
   "execution_count": 30,
   "metadata": {},
   "outputs": [
    {
     "name": "stdout",
     "output_type": "stream",
     "text": [
      "Weight of Shots Class in Training:  0.896330923947203\n",
      "Weight of Goal Class in Training:  0.10366907605279699\n"
     ]
    }
   ],
   "source": [
    "# Determine scale_pos_weight based on class imbalance\n",
    "count_class_0, count_class_1 = y_train.value_counts()\n",
    "# Class imbalance in training data\n",
    "weight_0 = count_class_0 / (count_class_0 + count_class_1)\n",
    "weight_1 = count_class_1 / (count_class_0 + count_class_1)\n",
    "print ('Weight of Shots Class in Training: ',weight_0)\n",
    "print ('Weight of Goal Class in Training: ', weight_1)"
   ]
  },
  {
   "cell_type": "code",
   "execution_count": 31,
   "metadata": {},
   "outputs": [],
   "source": [
    "# Define the hyperparameters to tune\n",
    "param_grid = {'n_estimators': [100, 200, 300],\n",
    "              'max_depth': [7, 9, 12, 15, 17],\n",
    "              'min_samples_split': [3, 5, 10],\n",
    "              'class_weight': ['balanced', {0: weight_0, 1: weight_1}]}"
   ]
  },
  {
   "cell_type": "code",
   "execution_count": 32,
   "metadata": {},
   "outputs": [],
   "source": [
    "# Define the random forest model\n",
    "rf_model = RandomForestClassifier()\n",
    "start_time = time.time()\n",
    "# Perform nested cross-validation with grid search\n",
    "grid_rf = GridSearchCV(rf_model, param_grid=param_grid, cv=cv_inner, scoring='f1', n_jobs=-1)\n",
    "scores_rf = cross_val_score(grid, X_train, y_train, cv=cv_outer, scoring='f1', n_jobs=-1)"
   ]
  },
  {
   "cell_type": "code",
   "execution_count": 33,
   "metadata": {},
   "outputs": [],
   "source": [
    "# Fit the best model on the entire training set\n",
    "grid_rf.fit(X_train, y_train)\n",
    "best_rf_model = grid_rf.best_estimator_\n",
    "\n",
    "end_time = time.time()\n",
    "\n",
    "rf_training_time = end_time - start_time"
   ]
  },
  {
   "cell_type": "code",
   "execution_count": 34,
   "metadata": {},
   "outputs": [
    {
     "name": "stdout",
     "output_type": "stream",
     "text": [
      "Best parameters:  {'class_weight': 'balanced', 'max_depth': 9, 'min_samples_split': 3, 'n_estimators': 200}\n",
      "Model Training Time: 793.144 seconds\n"
     ]
    }
   ],
   "source": [
    "# Print the best parameters\n",
    "print(\"Best parameters: \", grid_rf.best_params_)\n",
    "print (\"Model Training Time: {:.3f} seconds\".format(rf_training_time))"
   ]
  },
  {
   "cell_type": "code",
   "execution_count": 35,
   "metadata": {},
   "outputs": [
    {
     "name": "stdout",
     "output_type": "stream",
     "text": [
      "              precision    recall  f1-score   support\n",
      "\n",
      "           0       0.97      0.78      0.86     22817\n",
      "           1       0.28      0.77      0.41      2639\n",
      "\n",
      "    accuracy                           0.78     25456\n",
      "   macro avg       0.62      0.77      0.64     25456\n",
      "weighted avg       0.90      0.78      0.81     25456\n",
      " 0.14578311752665793 is the brier score on training data"
     ]
    }
   ],
   "source": [
    "# Brier score on training data\n",
    "rf_brs_train = brier_score_loss(y_train, best_rf_model.predict_proba(X_train)[:, 1])\n",
    "# Classfication report for training data and brier score\n",
    "print (classification_report(y_train, best_rf_model.predict(X_train)),rf_brs_train, end= \" is the brier score on training data\" )"
   ]
  },
  {
   "cell_type": "code",
   "execution_count": 36,
   "metadata": {},
   "outputs": [
    {
     "name": "stdout",
     "output_type": "stream",
     "text": [
      "              precision    recall  f1-score   support\n",
      "\n",
      "           0       0.96      0.77      0.85      7672\n",
      "           1       0.23      0.66      0.35       814\n",
      "\n",
      "    accuracy                           0.76      8486\n",
      "   macro avg       0.59      0.72      0.60      8486\n",
      "weighted avg       0.89      0.76      0.80      8486\n",
      " 0.15655525097891632 is the brier score on testing data"
     ]
    }
   ],
   "source": [
    "# Evaluate the performance of the best model on the testing set\n",
    "y_pred_rf = best_rf_model.predict(X_test)\n",
    "# Classfication report and brier score  for testing data\n",
    "rf_brs_test = brier_score_loss(y_test, best_rf_model.predict_proba(X_test)[:, 1])\n",
    "print (classification_report(y_test, y_pred_rf), rf_brs_test, end= \" is the brier score on testing data\")"
   ]
  },
  {
   "cell_type": "code",
   "execution_count": 37,
   "metadata": {},
   "outputs": [
    {
     "data": {
      "image/png": "[encoded data removed]",
      "text/plain": [
       "<Figure size 640x480 with 1 Axes>"
      ]
     },
     "metadata": {},
     "output_type": "display_data"
    }
   ],
   "source": [
    "# Extract feature importances\n",
    "importances = best_rf_model.feature_importances_\n",
    "\n",
    "# Sort feature importances in descending order\n",
    "indices = np.argsort(importances)[::-1]\n",
    "\n",
    "# Rearrange feature names so they match the sorted feature importances\n",
    "names = [X_train.columns[i] for i in indices]\n",
    "\n",
    "# Create plot\n",
    "plt.figure()\n",
    "\n",
    "# Create plot title\n",
    "plt.title(\"Feature Importance\")\n",
    "\n",
    "# Create barplot using seaborn\n",
    "sns.barplot(x=importances[indices], y=names)\n",
    "\n",
    "# Add x and y axis labels\n",
    "plt.xlabel(\"Importance\")\n",
    "plt.ylabel(\"Feature\")\n",
    "\n",
    "# Show plot\n",
    "plt.show()"
   ]
  },
  {
   "cell_type": "code",
   "execution_count": 38,
   "metadata": {},
   "outputs": [],
   "source": [
    "# Precision scores for the four models on training data\n",
    "prec_lr_train = precision_score(y_train, best_lr_model.predict(X_train))\n",
    "\n",
    "prec_xgb_train = precision_score(y_train, best_xgb_model.predict(X_train))\n",
    "\n",
    "prec_rf_train = precision_score(y_train, best_rf_model.predict(X_train))\n",
    "\n",
    "#prec_svm_train = precision_score(y_train, best_svm_model.predict(X_train))\n",
    "\n",
    "prec_train = [prec_lr_train, prec_xgb_train, prec_rf_train]\n",
    "\n",
    "# Precision scores for the four models on testing data\n",
    "prec_lr_test = precision_score(y_test, y_pred)\n",
    "\n",
    "prec_xgb_test = precision_score(y_test, y_pred_xgb)\n",
    "\n",
    "prec_rf_test = precision_score(y_test, y_pred_rf)\n",
    "\n",
    "#prec_svm_test = precision_score(y_test, y_pred_svm)\n",
    "\n",
    "prec_test = [prec_lr_test, prec_xgb_test, prec_rf_test]\n",
    "\n",
    "# Recall scores for the four models on training data\n",
    "rec_lr_train = recall_score(y_train, best_lr_model.predict(X_train))\n",
    "\n",
    "rec_xgb_train = recall_score(y_train, best_xgb_model.predict(X_train))\n",
    "\n",
    "rec_rf_train = recall_score(y_train, best_rf_model.predict(X_train))\n",
    "\n",
    "#rec_svm_train = recall_score(y_train, best_svm_model.predict(X_train))\n",
    "\n",
    "rec_train = [rec_lr_train, rec_xgb_train, rec_rf_train]\n",
    "\n",
    "\n",
    "# Calculting Recall for the four models on test data\n",
    "rec_lr_test = recall_score(y_test, y_pred)\n",
    "\n",
    "rec_xgb_test = recall_score(y_test, y_pred_xgb)\n",
    "\n",
    "rec_rf_test = recall_score(y_test, y_pred_rf)\n",
    "\n",
    "#rec_svm_test = recall_score(y_test, y_pred_svm)\n",
    "\n",
    "rec_test = [rec_lr_test, rec_xgb_test, rec_rf_test]\n",
    "\n",
    "# Accuracy scores for the four models on training data\n",
    "acc_lr_train = accuracy_score(y_train, best_lr_model.predict(X_train))\n",
    "\n",
    "acc_xgb_train = accuracy_score(y_train, best_xgb_model.predict(X_train))\n",
    "\n",
    "acc_rf_train = accuracy_score(y_train, best_rf_model.predict(X_train))\n",
    "\n",
    "#acc_svm_train = accuracy_score(y_train, best_svm_model.predict(X_train))\n",
    "\n",
    "acc_train = [acc_lr_train, acc_xgb_train, acc_rf_train]\n",
    "\n",
    "# Calculating Accuracy for the four models on test data\n",
    "acc_lr_test = accuracy_score(y_test, y_pred)\n",
    "\n",
    "acc_xgb_test = accuracy_score(y_test, y_pred_xgb)\n",
    "\n",
    "acc_rf_test = accuracy_score(y_test, y_pred_rf)\n",
    "\n",
    "#acc_svm_test = accuracy_score(y_test, y_pred_svm)\n",
    "\n",
    "acc_test = [acc_lr_test, acc_xgb_test, acc_rf_test]\n",
    "# Brier score for four models on training data\n",
    "BRS_train = [LR_BRS_train, xgb_BRS_train, rf_brs_train]\n",
    "# Brier score for four models on test data\n",
    "BRS_test = [LR_BRS_test, xgb_BRS_test, rf_brs_test]\n",
    "\n",
    "\n",
    "# Model training time\n",
    "train_time =[lr_training_time/60, xgb_training_time/60, rf_training_time/60]"
   ]
  },
  {
   "cell_type": "code",
   "execution_count": 39,
   "metadata": {},
   "outputs": [
    {
     "data": {
      "text/html": [
       "<style type=\"text/css\">\n",
       "#T_465b5_row0_col0, #T_465b5_row0_col1, #T_465b5_row0_col2, #T_465b5_row0_col8, #T_465b5_row1_col4, #T_465b5_row1_col5, #T_465b5_row2_col3, #T_465b5_row2_col6, #T_465b5_row2_col7 {\n",
       "  font-weight: bold;\n",
       "  border: 2.0px solid grey;\n",
       "  color: purple;\n",
       "  background-color: yellow;\n",
       "}\n",
       "#T_465b5_row0_col3, #T_465b5_row0_col6, #T_465b5_row0_col7, #T_465b5_row1_col2, #T_465b5_row2_col0, #T_465b5_row2_col1, #T_465b5_row2_col4, #T_465b5_row2_col5, #T_465b5_row2_col8 {\n",
       "  background-color: cyan;\n",
       "  font-weight: bold;\n",
       "  border: 2.0px solid grey;\n",
       "  color: purple;\n",
       "}\n",
       "#T_465b5_row0_col4, #T_465b5_row0_col5, #T_465b5_row1_col0, #T_465b5_row1_col1, #T_465b5_row1_col3, #T_465b5_row1_col6, #T_465b5_row1_col7, #T_465b5_row1_col8, #T_465b5_row2_col2 {\n",
       "  font-weight: bold;\n",
       "  border: 2.0px solid grey;\n",
       "  color: purple;\n",
       "}\n",
       "</style>\n",
       "<table id=\"T_465b5\">\n",
       "  <thead>\n",
       "    <tr>\n",
       "      <th class=\"blank level0\" >&nbsp;</th>\n",
       "      <th id=\"T_465b5_level0_col0\" class=\"col_heading level0 col0\" >Training Accuracy</th>\n",
       "      <th id=\"T_465b5_level0_col1\" class=\"col_heading level0 col1\" >Training Precision</th>\n",
       "      <th id=\"T_465b5_level0_col2\" class=\"col_heading level0 col2\" >Training Recall</th>\n",
       "      <th id=\"T_465b5_level0_col3\" class=\"col_heading level0 col3\" >Training Brier</th>\n",
       "      <th id=\"T_465b5_level0_col4\" class=\"col_heading level0 col4\" >Testing Accuracy</th>\n",
       "      <th id=\"T_465b5_level0_col5\" class=\"col_heading level0 col5\" >Testing Precision</th>\n",
       "      <th id=\"T_465b5_level0_col6\" class=\"col_heading level0 col6\" >Testing Recall</th>\n",
       "      <th id=\"T_465b5_level0_col7\" class=\"col_heading level0 col7\" >Testing Brier</th>\n",
       "      <th id=\"T_465b5_level0_col8\" class=\"col_heading level0 col8\" >Training Time (mins)</th>\n",
       "    </tr>\n",
       "    <tr>\n",
       "      <th class=\"index_name level0\" >Model Name</th>\n",
       "      <th class=\"blank col0\" >&nbsp;</th>\n",
       "      <th class=\"blank col1\" >&nbsp;</th>\n",
       "      <th class=\"blank col2\" >&nbsp;</th>\n",
       "      <th class=\"blank col3\" >&nbsp;</th>\n",
       "      <th class=\"blank col4\" >&nbsp;</th>\n",
       "      <th class=\"blank col5\" >&nbsp;</th>\n",
       "      <th class=\"blank col6\" >&nbsp;</th>\n",
       "      <th class=\"blank col7\" >&nbsp;</th>\n",
       "      <th class=\"blank col8\" >&nbsp;</th>\n",
       "    </tr>\n",
       "  </thead>\n",
       "  <tbody>\n",
       "    <tr>\n",
       "      <th id=\"T_465b5_level0_row0\" class=\"row_heading level0 row0\" >Logistic Regression</th>\n",
       "      <td id=\"T_465b5_row0_col0\" class=\"data row0 col0\" >0.728</td>\n",
       "      <td id=\"T_465b5_row0_col1\" class=\"data row0 col1\" >0.230</td>\n",
       "      <td id=\"T_465b5_row0_col2\" class=\"data row0 col2\" >0.696</td>\n",
       "      <td id=\"T_465b5_row0_col3\" class=\"data row0 col3\" >0.184</td>\n",
       "      <td id=\"T_465b5_row0_col4\" class=\"data row0 col4\" >0.728</td>\n",
       "      <td id=\"T_465b5_row0_col5\" class=\"data row0 col5\" >0.220</td>\n",
       "      <td id=\"T_465b5_row0_col6\" class=\"data row0 col6\" >0.720</td>\n",
       "      <td id=\"T_465b5_row0_col7\" class=\"data row0 col7\" >0.185</td>\n",
       "      <td id=\"T_465b5_row0_col8\" class=\"data row0 col8\" >1.033</td>\n",
       "    </tr>\n",
       "    <tr>\n",
       "      <th id=\"T_465b5_level0_row1\" class=\"row_heading level0 row1\" >XG Boost</th>\n",
       "      <td id=\"T_465b5_row1_col0\" class=\"data row1 col0\" >0.730</td>\n",
       "      <td id=\"T_465b5_row1_col1\" class=\"data row1 col1\" >0.250</td>\n",
       "      <td id=\"T_465b5_row1_col2\" class=\"data row1 col2\" >0.801</td>\n",
       "      <td id=\"T_465b5_row1_col3\" class=\"data row1 col3\" >0.166</td>\n",
       "      <td id=\"T_465b5_row1_col4\" class=\"data row1 col4\" >0.718</td>\n",
       "      <td id=\"T_465b5_row1_col5\" class=\"data row1 col5\" >0.212</td>\n",
       "      <td id=\"T_465b5_row1_col6\" class=\"data row1 col6\" >0.716</td>\n",
       "      <td id=\"T_465b5_row1_col7\" class=\"data row1 col7\" >0.175</td>\n",
       "      <td id=\"T_465b5_row1_col8\" class=\"data row1 col8\" >10.683</td>\n",
       "    </tr>\n",
       "    <tr>\n",
       "      <th id=\"T_465b5_level0_row2\" class=\"row_heading level0 row2\" >Random Forests</th>\n",
       "      <td id=\"T_465b5_row2_col0\" class=\"data row2 col0\" >0.775</td>\n",
       "      <td id=\"T_465b5_row2_col1\" class=\"data row2 col1\" >0.284</td>\n",
       "      <td id=\"T_465b5_row2_col2\" class=\"data row2 col2\" >0.765</td>\n",
       "      <td id=\"T_465b5_row2_col3\" class=\"data row2 col3\" >0.146</td>\n",
       "      <td id=\"T_465b5_row2_col4\" class=\"data row2 col4\" >0.759</td>\n",
       "      <td id=\"T_465b5_row2_col5\" class=\"data row2 col5\" >0.234</td>\n",
       "      <td id=\"T_465b5_row2_col6\" class=\"data row2 col6\" >0.663</td>\n",
       "      <td id=\"T_465b5_row2_col7\" class=\"data row2 col7\" >0.157</td>\n",
       "      <td id=\"T_465b5_row2_col8\" class=\"data row2 col8\" >13.219</td>\n",
       "    </tr>\n",
       "  </tbody>\n",
       "</table>\n"
      ],
      "text/plain": [
       "<pandas.io.formats.style.Styler at 0x1722c578b50>"
      ]
     },
     "execution_count": 39,
     "metadata": {},
     "output_type": "execute_result"
    }
   ],
   "source": [
    "# Creating of dataframe of summary results\n",
    "summary_df = pd.DataFrame({'Model Name':['Logistic Regression','XG Boost','Random Forests'],\n",
    "                          'Training Accuracy': acc_train, 'Training Precision': prec_train,'Training Recall':rec_train,'Training Brier': BRS_train,\n",
    "                          'Testing Accuracy': acc_test, 'Testing Precision': prec_test,'Testing Recall':rec_test, 'Testing Brier': BRS_test,\n",
    "                          'Training Time (mins)': train_time})\n",
    "\n",
    "summary_df.set_index('Model Name', inplace=True)\n",
    "# Displaying summary of results\n",
    "summary_df.style.format(precision =3).highlight_max(color='cyan').set_properties(**{'font-weight': 'bold',\n",
    "            'border': '2.0px solid grey','color': 'purple'}).highlight_min(color='yellow')"
   ]
  }
 ],
 "metadata": {
  "kernelspec": {
   "display_name": "base",
   "language": "python",
   "name": "python3"
  },
  "language_info": {
   "codemirror_mode": {
    "name": "ipython",
    "version": 3
   },
   "file_extension": ".py",
   "mimetype": "text/x-python",
   "name": "python",
   "nbconvert_exporter": "python",
   "pygments_lexer": "ipython3",
   "version": "3.10.9"
  },
  "orig_nbformat": 4
 },
 "nbformat": 4,
 "nbformat_minor": 2
}
