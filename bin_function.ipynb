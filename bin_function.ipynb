{
 "cells": [
  {
   "cell_type": "code",
   "execution_count": 2,
   "metadata": {},
   "outputs": [
    {
     "name": "stdout",
     "output_type": "stream",
     "text": [
      "Series with bin indices:\n",
      "0     6\n",
      "1     7\n",
      "2    12\n",
      "3    13\n",
      "4    19\n",
      "5    12\n",
      "6    16\n",
      "7    14\n",
      "8     8\n",
      "dtype: int64\n"
     ]
    }
   ],
   "source": [
    "import numpy as np\n",
    "import pandas as pd\n",
    "\n",
    "def coordinates_to_bins(df, x_col, y_col, L=105, W=68, bins=(5, 5)):\n",
    "    \"\"\"\n",
    "    Transforms coordinates from DataFrame columns into bin indices.\n",
    "\n",
    "    Args:\n",
    "        df (pd.DataFrame): DataFrame containing the coordinates.\n",
    "        x_col (str): Column name of x coordinates.\n",
    "        y_col (str): Column name of y coordinates.\n",
    "        L (int): Length of the field.\n",
    "        W (int): Width of the field.\n",
    "        bins (tuple): Number of bins (x_bins, y_bins).\n",
    "\n",
    "    Returns:\n",
    "        pd.Series: Series with bin indices for each coordinate pair.\n",
    "    \"\"\"\n",
    "    # Extract x and y coordinates from the DataFrame\n",
    "    x = df[x_col]\n",
    "    y = df[y_col]\n",
    "    \n",
    "    # Calculate bin edges\n",
    "    x_edges = np.linspace(0, L, bins[0] + 1)\n",
    "    y_edges = np.linspace(0, W, bins[1] + 1)\n",
    "    \n",
    "    # Calculate bin indices for each point\n",
    "    b_x = np.digitize(x, x_edges) - 1\n",
    "    b_y = np.digitize(y, y_edges) - 1\n",
    "    \n",
    "    # Ensure that points on the upper edge are included in the last bin\n",
    "    b_x = np.clip(b_x, 0, bins[0] - 1)\n",
    "    b_y = np.clip(b_y, 0, bins[1] - 1)\n",
    "    \n",
    "    # Create a single bin index combining both dimensions\n",
    "    bin_indices = b_x * bins[1] + b_y\n",
    "    \n",
    "    return pd.Series(bin_indices, index=df.index)\n",
    "\n",
    "# Example usage\n",
    "data = {\n",
    "    'x': [30, 40, 50, 60, 70, 55, 65, 45, 35],\n",
    "    'y': [20, 30, 40, 50, 60, 35, 25, 55, 45]\n",
    "}\n",
    "df = pd.DataFrame(data)\n",
    "bins = (5, 5)\n",
    "bin_series = coordinates_to_bins(df, 'x', 'y', bins=bins)\n",
    "\n",
    "print(\"Series with bin indices:\")\n",
    "print(bin_series)\n",
    "\n",
    "\n",
    "\n",
    "\n",
    "\n"
   ]
  }
 ],
 "metadata": {
  "kernelspec": {
   "display_name": "base",
   "language": "python",
   "name": "python3"
  },
  "language_info": {
   "codemirror_mode": {
    "name": "ipython",
    "version": 3
   },
   "file_extension": ".py",
   "mimetype": "text/x-python",
   "name": "python",
   "nbconvert_exporter": "python",
   "pygments_lexer": "ipython3",
   "version": "3.10.9"
  }
 },
 "nbformat": 4,
 "nbformat_minor": 2
}
