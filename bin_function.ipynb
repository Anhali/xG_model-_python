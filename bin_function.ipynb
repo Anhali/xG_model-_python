{
 "cells": [
  {
   "cell_type": "code",
   "execution_count": 3,
   "metadata": {},
   "outputs": [
    {
     "name": "stdout",
     "output_type": "stream",
     "text": [
      "      x    y  bin\n",
      "0    10   10   11\n",
      "1    20   20   22\n",
      "2    33   25   32\n",
      "3    40    4   40\n",
      "4    50   50   55\n",
      "5    63   16   61\n",
      "6    79   50   75\n",
      "7    80   84   88\n",
      "8    90   95   99\n",
      "9   100  100   99\n",
      "10    0   10    1\n"
     ]
    }
   ],
   "source": [
    "import pandas as pd\n",
    "import numpy as np\n",
    "\n",
    "def coords_to_bins(df, x_col, y_col, bins=(10, 10)):\n",
    "    # Calculate bin edges\n",
    "    x_edges = np.linspace(0, 100, bins[0] + 1)\n",
    "    y_edges = np.linspace(0, 100, bins[1] + 1)\n",
    "    \n",
    "    # Convert coordinates to bins using pd.cut\n",
    "    bin_x = pd.cut(df[x_col], x_edges, right=False, labels=np.arange(0, bins[0]))\n",
    "    bin_y = pd.cut(df[y_col], y_edges, right=False, labels=np.arange(0, bins[1]))\n",
    "    \n",
    "    # Handle the edge case where x or y equals 100\n",
    "    bin_x = bin_x.fillna(bins[0] - 1).astype(int)\n",
    "    bin_y = bin_y.fillna(bins[1] - 1).astype(int)\n",
    "    \n",
    "    # Calculate the bin number\n",
    "    bin_number = bin_x * bins[1] + bin_y\n",
    "    \n",
    "    return bin_number\n",
    "\n",
    "\n",
    "\n",
    "\n",
    "\n",
    "\n",
    "\n",
    "\n"
   ]
  }
 ],
 "metadata": {
  "kernelspec": {
   "display_name": "base",
   "language": "python",
   "name": "python3"
  },
  "language_info": {
   "codemirror_mode": {
    "name": "ipython",
    "version": 3
   },
   "file_extension": ".py",
   "mimetype": "text/x-python",
   "name": "python",
   "nbconvert_exporter": "python",
   "pygments_lexer": "ipython3",
   "version": "3.10.9"
  }
 },
 "nbformat": 4,
 "nbformat_minor": 2
}
