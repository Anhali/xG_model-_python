{
 "cells": [
  {
   "cell_type": "code",
   "execution_count": 10,
   "metadata": {},
   "outputs": [],
   "source": [
    "import numpy as np \n",
    "import pandas as pd\n",
    "import seaborn as sns\n",
    "import json"
   ]
  },
  {
   "cell_type": "code",
   "execution_count": 15,
   "metadata": {},
   "outputs": [
    {
     "name": "stdout",
     "output_type": "stream",
     "text": [
      "<class 'pandas.core.frame.DataFrame'>\n",
      "Index: 40461 entries, 0 to 40460\n",
      "Data columns (total 23 columns):\n",
      " #   Column        Non-Null Count  Dtype  \n",
      "---  ------        --------------  -----  \n",
      " 0   eventId       40461 non-null  int64  \n",
      " 1   subEventName  40461 non-null  object \n",
      " 2   tags          40461 non-null  object \n",
      " 3   playerId      40461 non-null  int64  \n",
      " 4   positions     40461 non-null  object \n",
      " 5   matchId       40461 non-null  int64  \n",
      " 6   eventName     40461 non-null  object \n",
      " 7   teamId        40461 non-null  int64  \n",
      " 8   matchPeriod   40461 non-null  object \n",
      " 9   eventSec      40461 non-null  float64\n",
      " 10  subEventId    40461 non-null  int64  \n",
      " 11  id            40461 non-null  int64  \n",
      " 12  Left_Foot     40461 non-null  float64\n",
      " 13  Right_Foot    40461 non-null  float64\n",
      " 14  GLC           40461 non-null  float64\n",
      " 15  GLR           40461 non-null  float64\n",
      " 16  GLL           40461 non-null  float64\n",
      " 17  GC            40461 non-null  float64\n",
      " 18  GCL           40461 non-null  float64\n",
      " 19  GCR           40461 non-null  float64\n",
      " 20  GHC           40461 non-null  float64\n",
      " 21  GHR           40461 non-null  float64\n",
      " 22  GHL           40461 non-null  float64\n",
      "dtypes: float64(12), int64(6), object(5)\n",
      "memory usage: 7.4+ MB\n"
     ]
    }
   ],
   "source": [
    "with open('Wyscout\\Final_df.json') as f:\n",
    "    events_model= json.load(f)\n",
    "\n",
    "# Converting the laoded into datframe\n",
    "df = pd.DataFrame(events_model)\n",
    "\n",
    "df.info()"
   ]
  },
  {
   "cell_type": "code",
   "execution_count": 16,
   "metadata": {},
   "outputs": [
    {
     "name": "stdout",
     "output_type": "stream",
     "text": [
      "Pourcentage de possession par équipe pour chaque match:\n",
      "      matchId  teamId  counts  total_counts  possessionPercentage\n",
      "0     2499719    1609      27            34             79.411765\n",
      "1     2499719    1631       7            34             20.588235\n",
      "2     2499720    1625      12            18             66.666667\n",
      "3     2499720    1651       6            18             33.333333\n",
      "4     2499721    1610      15            24             62.500000\n",
      "...       ...     ...     ...           ...                   ...\n",
      "3644  2576336    3315      14            29             48.275862\n",
      "3645  2576337    3164       9            23             39.130435\n",
      "3646  2576337    3204      14            23             60.869565\n",
      "3647  2576338    3185       4            15             26.666667\n",
      "3648  2576338    3193      11            15             73.333333\n",
      "\n",
      "[3649 rows x 5 columns]\n"
     ]
    }
   ],
   "source": [
    "\n",
    "# Définir les événements pertinents pour la possession\n",
    "possession_events = ['Pass', 'Shot', 'Dribble', 'Free Kick']  # Ajoutez d'autres événements pertinents si nécessaire\n",
    "# Filtrer les événements pertinents\n",
    "possession_df = df[df['eventName'].isin(possession_events)]\n",
    "\n",
    "# Grouper par matchId et teamId\n",
    "grouped = possession_df.groupby(['matchId', 'teamId']).size().reset_index(name='counts')\n",
    "\n",
    "# Calculer la possession pour chaque matchId\n",
    "total_events_per_match = possession_df.groupby('matchId').size().reset_index(name='total_counts')\n",
    "\n",
    "# Fusionner les deux DataFrames\n",
    "possession_percentage_df = pd.merge(grouped, total_events_per_match, on='matchId')\n",
    "\n",
    "# Calculer le pourcentage de possession pour chaque équipe\n",
    "possession_percentage_df['possessionPercentage'] = (possession_percentage_df['counts'] / possession_percentage_df['total_counts']) * 100\n",
    "\n",
    "# Afficher le résultat\n",
    "print(\"Pourcentage de possession par équipe pour chaque match:\")\n",
    "print(possession_percentage_df)\n",
    "possession_percentage_df.to_json('possession.json')"
   ]
  }
 ],
 "metadata": {
  "kernelspec": {
   "display_name": "base",
   "language": "python",
   "name": "python3"
  },
  "language_info": {
   "codemirror_mode": {
    "name": "ipython",
    "version": 3
   },
   "file_extension": ".py",
   "mimetype": "text/x-python",
   "name": "python",
   "nbconvert_exporter": "python",
   "pygments_lexer": "ipython3",
   "version": "3.10.9"
  }
 },
 "nbformat": 4,
 "nbformat_minor": 2
}
